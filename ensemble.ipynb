{
 "cells": [
  {
   "cell_type": "code",
   "execution_count": 1,
   "id": "3ea26ed8",
   "metadata": {
    "execution": {
     "iopub.execute_input": "2024-01-28T23:26:23.301668Z",
     "iopub.status.busy": "2024-01-28T23:26:23.301391Z",
     "iopub.status.idle": "2024-01-28T23:26:25.064176Z",
     "shell.execute_reply": "2024-01-28T23:26:25.063309Z"
    },
    "papermill": {
     "duration": 1.774089,
     "end_time": "2024-01-28T23:26:25.066716",
     "exception": false,
     "start_time": "2024-01-28T23:26:23.292627",
     "status": "completed"
    },
    "tags": []
   },
   "outputs": [
    {
     "name": "stderr",
     "output_type": "stream",
     "text": [
      "/opt/conda/lib/python3.10/site-packages/scipy/__init__.py:146: UserWarning: A NumPy version >=1.16.5 and <1.23.0 is required for this version of SciPy (detected version 1.24.3\n",
      "  warnings.warn(f\"A NumPy version >={np_minversion} and <{np_maxversion}\"\n"
     ]
    }
   ],
   "source": [
    "from sklearn.utils import shuffle\n",
    "from sklearn.model_selection import train_test_split"
   ]
  },
  {
   "cell_type": "code",
   "execution_count": 2,
   "id": "4b54e61c",
   "metadata": {
    "execution": {
     "iopub.execute_input": "2024-01-28T23:26:25.084014Z",
     "iopub.status.busy": "2024-01-28T23:26:25.083719Z",
     "iopub.status.idle": "2024-01-28T23:27:46.650935Z",
     "shell.execute_reply": "2024-01-28T23:27:46.650097Z"
    },
    "papermill": {
     "duration": 81.577885,
     "end_time": "2024-01-28T23:27:46.653294",
     "exception": false,
     "start_time": "2024-01-28T23:26:25.075409",
     "status": "completed"
    },
    "tags": []
   },
   "outputs": [],
   "source": [
    "\n",
    "import torch\n",
    "from torch import *\n",
    "dataset_x = torch.load(\"/kaggle/input/zip-40k-dataset-cxr/final_x/final_x.pt\")\n",
    "dataset_y = torch.load(\"/kaggle/input/zip-40k-dataset-cxr/final_y (1).pt\")"
   ]
  },
  {
   "cell_type": "code",
   "execution_count": null,
   "id": "f3c2265b",
   "metadata": {
    "execution": {
     "iopub.execute_input": "2024-01-28T18:12:52.600490Z",
     "iopub.status.busy": "2024-01-28T18:12:52.599672Z",
     "iopub.status.idle": "2024-01-28T18:12:52.605967Z",
     "shell.execute_reply": "2024-01-28T18:12:52.605126Z",
     "shell.execute_reply.started": "2024-01-28T18:12:52.600456Z"
    },
    "papermill": {
     "duration": 0.007456,
     "end_time": "2024-01-28T23:27:46.668627",
     "exception": false,
     "start_time": "2024-01-28T23:27:46.661171",
     "status": "completed"
    },
    "tags": []
   },
   "outputs": [],
   "source": [
    " "
   ]
  },
  {
   "cell_type": "code",
   "execution_count": 3,
   "id": "210e7d1c",
   "metadata": {
    "execution": {
     "iopub.execute_input": "2024-01-28T23:27:46.684547Z",
     "iopub.status.busy": "2024-01-28T23:27:46.684159Z",
     "iopub.status.idle": "2024-01-28T23:27:49.663634Z",
     "shell.execute_reply": "2024-01-28T23:27:49.662814Z"
    },
    "papermill": {
     "duration": 2.990281,
     "end_time": "2024-01-28T23:27:49.666207",
     "exception": false,
     "start_time": "2024-01-28T23:27:46.675926",
     "status": "completed"
    },
    "tags": []
   },
   "outputs": [],
   "source": [
    "from sklearn.model_selection import train_test_split\n",
    "xtr, xts, ytr, yts = train_test_split(dataset_x, dataset_y, test_size=0.2, shuffle=True, stratify=dataset_y)"
   ]
  },
  {
   "cell_type": "code",
   "execution_count": 4,
   "id": "94e4adf3",
   "metadata": {
    "execution": {
     "iopub.execute_input": "2024-01-28T23:27:49.682624Z",
     "iopub.status.busy": "2024-01-28T23:27:49.682326Z",
     "iopub.status.idle": "2024-01-28T23:27:49.689154Z",
     "shell.execute_reply": "2024-01-28T23:27:49.688358Z"
    },
    "papermill": {
     "duration": 0.017163,
     "end_time": "2024-01-28T23:27:49.691076",
     "exception": false,
     "start_time": "2024-01-28T23:27:49.673913",
     "status": "completed"
    },
    "tags": []
   },
   "outputs": [
    {
     "data": {
      "text/plain": [
       "torch.Size([32301, 1, 224, 224])"
      ]
     },
     "execution_count": 4,
     "metadata": {},
     "output_type": "execute_result"
    }
   ],
   "source": [
    "xtr.size()"
   ]
  },
  {
   "cell_type": "code",
   "execution_count": 5,
   "id": "322e995a",
   "metadata": {
    "execution": {
     "iopub.execute_input": "2024-01-28T23:27:49.706968Z",
     "iopub.status.busy": "2024-01-28T23:27:49.706680Z",
     "iopub.status.idle": "2024-01-28T23:27:49.712170Z",
     "shell.execute_reply": "2024-01-28T23:27:49.711203Z"
    },
    "papermill": {
     "duration": 0.015821,
     "end_time": "2024-01-28T23:27:49.714314",
     "exception": false,
     "start_time": "2024-01-28T23:27:49.698493",
     "status": "completed"
    },
    "tags": []
   },
   "outputs": [
    {
     "data": {
      "text/plain": [
       "torch.Size([8076, 1, 224, 224])"
      ]
     },
     "execution_count": 5,
     "metadata": {},
     "output_type": "execute_result"
    }
   ],
   "source": [
    "xts.size()"
   ]
  },
  {
   "cell_type": "markdown",
   "id": "0f57ad48",
   "metadata": {
    "papermill": {
     "duration": 0.008543,
     "end_time": "2024-01-28T23:27:49.731186",
     "exception": false,
     "start_time": "2024-01-28T23:27:49.722643",
     "status": "completed"
    },
    "tags": []
   },
   "source": []
  },
  {
   "cell_type": "code",
   "execution_count": 6,
   "id": "f2a1acec",
   "metadata": {
    "execution": {
     "iopub.execute_input": "2024-01-28T23:27:49.749125Z",
     "iopub.status.busy": "2024-01-28T23:27:49.748194Z",
     "iopub.status.idle": "2024-01-28T23:27:49.754687Z",
     "shell.execute_reply": "2024-01-28T23:27:49.753998Z"
    },
    "papermill": {
     "duration": 0.016749,
     "end_time": "2024-01-28T23:27:49.756515",
     "exception": false,
     "start_time": "2024-01-28T23:27:49.739766",
     "status": "completed"
    },
    "tags": []
   },
   "outputs": [],
   "source": [
    "import torch\n",
    "from torch import *\n",
    "my_dataset = torch.utils.data.TensorDataset(xtr,ytr) # create your datset\n",
    "my_dataloader = torch.utils.data.DataLoader(my_dataset,batch_size=32,\n",
    "                                          shuffle=True, num_workers=2)\n",
    "\n",
    "my_dataset = torch.utils.data.TensorDataset(xts,yts) # create your datset\n",
    "my_tdataloader = torch.utils.data.DataLoader(my_dataset,batch_size=32)"
   ]
  },
  {
   "cell_type": "code",
   "execution_count": 7,
   "id": "e25ce8cb",
   "metadata": {
    "execution": {
     "iopub.execute_input": "2024-01-28T23:27:49.773044Z",
     "iopub.status.busy": "2024-01-28T23:27:49.772530Z",
     "iopub.status.idle": "2024-01-28T23:27:49.777979Z",
     "shell.execute_reply": "2024-01-28T23:27:49.777110Z"
    },
    "papermill": {
     "duration": 0.015616,
     "end_time": "2024-01-28T23:27:49.779882",
     "exception": false,
     "start_time": "2024-01-28T23:27:49.764266",
     "status": "completed"
    },
    "tags": []
   },
   "outputs": [
    {
     "data": {
      "text/plain": [
       "1010"
      ]
     },
     "execution_count": 7,
     "metadata": {},
     "output_type": "execute_result"
    }
   ],
   "source": [
    "len(my_dataloader)"
   ]
  },
  {
   "cell_type": "code",
   "execution_count": 8,
   "id": "7dd5494d",
   "metadata": {
    "execution": {
     "iopub.execute_input": "2024-01-28T23:27:49.796932Z",
     "iopub.status.busy": "2024-01-28T23:27:49.796409Z",
     "iopub.status.idle": "2024-01-28T23:27:49.800061Z",
     "shell.execute_reply": "2024-01-28T23:27:49.799235Z"
    },
    "papermill": {
     "duration": 0.014257,
     "end_time": "2024-01-28T23:27:49.801977",
     "exception": false,
     "start_time": "2024-01-28T23:27:49.787720",
     "status": "completed"
    },
    "tags": []
   },
   "outputs": [],
   "source": [
    "from IPython.display import clear_output"
   ]
  },
  {
   "cell_type": "code",
   "execution_count": 9,
   "id": "34575be8",
   "metadata": {
    "execution": {
     "iopub.execute_input": "2024-01-28T23:27:49.818383Z",
     "iopub.status.busy": "2024-01-28T23:27:49.817889Z",
     "iopub.status.idle": "2024-01-28T23:27:49.821566Z",
     "shell.execute_reply": "2024-01-28T23:27:49.820747Z"
    },
    "papermill": {
     "duration": 0.013813,
     "end_time": "2024-01-28T23:27:49.823460",
     "exception": false,
     "start_time": "2024-01-28T23:27:49.809647",
     "status": "completed"
    },
    "tags": []
   },
   "outputs": [],
   "source": [
    "rep = []"
   ]
  },
  {
   "cell_type": "code",
   "execution_count": 10,
   "id": "3a81d50c",
   "metadata": {
    "execution": {
     "iopub.execute_input": "2024-01-28T23:27:49.839955Z",
     "iopub.status.busy": "2024-01-28T23:27:49.839454Z",
     "iopub.status.idle": "2024-01-28T23:27:49.842946Z",
     "shell.execute_reply": "2024-01-28T23:27:49.842171Z"
    },
    "papermill": {
     "duration": 0.013603,
     "end_time": "2024-01-28T23:27:49.844733",
     "exception": false,
     "start_time": "2024-01-28T23:27:49.831130",
     "status": "completed"
    },
    "tags": []
   },
   "outputs": [],
   "source": [
    "feature_vec=[]"
   ]
  },
  {
   "cell_type": "code",
   "execution_count": 11,
   "id": "983939b1",
   "metadata": {
    "execution": {
     "iopub.execute_input": "2024-01-28T23:27:49.861184Z",
     "iopub.status.busy": "2024-01-28T23:27:49.860669Z",
     "iopub.status.idle": "2024-01-28T23:27:54.749548Z",
     "shell.execute_reply": "2024-01-28T23:27:54.748766Z"
    },
    "papermill": {
     "duration": 4.899571,
     "end_time": "2024-01-28T23:27:54.751859",
     "exception": false,
     "start_time": "2024-01-28T23:27:49.852288",
     "status": "completed"
    },
    "tags": []
   },
   "outputs": [
    {
     "name": "stdout",
     "output_type": "stream",
     "text": [
      "CUDA is available. Working on GPU\n"
     ]
    }
   ],
   "source": [
    "import os\n",
    "import time\n",
    "from tempfile import TemporaryDirectory\n",
    "\n",
    "import cv2\n",
    "import numpy as np\n",
    "import pandas as pd\n",
    "from PIL import Image\n",
    "import matplotlib.pyplot as plt\n",
    "\n",
    "import torch\n",
    "import torchvision\n",
    "import torch.nn as nn\n",
    "import torch.optim as optim\n",
    "from torch.optim import lr_scheduler\n",
    "from torchvision import datasets, models, transforms\n",
    "from torch.utils.data import DataLoader, random_split\n",
    "\n",
    "import torch\n",
    "import torchvision.models as models\n",
    "\n",
    "\n",
    "if torch.cuda.is_available():\n",
    "    print('CUDA is available. Working on GPU')\n",
    "    device = torch.device('cuda')\n",
    "else:\n",
    "    print('CUDA is not available. Working on CPU')\n",
    "    device = torch.device('cpu')\n",
    "\n",
    "\n",
    "\n",
    "import timm"
   ]
  },
  {
   "cell_type": "markdown",
   "id": "edea26b2",
   "metadata": {
    "papermill": {
     "duration": 0.007786,
     "end_time": "2024-01-28T23:27:54.767978",
     "exception": false,
     "start_time": "2024-01-28T23:27:54.760192",
     "status": "completed"
    },
    "tags": []
   },
   "source": [
    "# Model Densenet201"
   ]
  },
  {
   "cell_type": "code",
   "execution_count": 12,
   "id": "8c097433",
   "metadata": {
    "execution": {
     "iopub.execute_input": "2024-01-28T23:27:54.785466Z",
     "iopub.status.busy": "2024-01-28T23:27:54.785166Z",
     "iopub.status.idle": "2024-01-28T23:27:56.416970Z",
     "shell.execute_reply": "2024-01-28T23:27:56.416260Z"
    },
    "papermill": {
     "duration": 1.64268,
     "end_time": "2024-01-28T23:27:56.419120",
     "exception": false,
     "start_time": "2024-01-28T23:27:54.776440",
     "status": "completed"
    },
    "tags": []
   },
   "outputs": [
    {
     "data": {
      "application/vnd.jupyter.widget-view+json": {
       "model_id": "95b14628451b4731931738c9c32e3e24",
       "version_major": 2,
       "version_minor": 0
      },
      "text/plain": [
       "model.safetensors:   0%|          | 0.00/81.1M [00:00<?, ?B/s]"
      ]
     },
     "metadata": {},
     "output_type": "display_data"
    }
   ],
   "source": [
    "# from timm\n",
    "pretrained_model_name = 'densenet201'\n",
    "model_d201 = timm.create_model(pretrained_model_name, pretrained=True)\n",
    "\n",
    "num_channels = 1  # for grayscale images, but it could be any number\n",
    "# Extract the first conv layer's parameters\n",
    "num_filters = model_d201.features.conv0.out_channels\n",
    "kernel_size = model_d201.features.conv0.kernel_size\n",
    "stride = model_d201.features.conv0.stride\n",
    "padding = model_d201.features.conv0.padding\n",
    "conv1 = torch.nn.Conv2d(num_channels, num_filters, kernel_size=kernel_size, stride=stride, padding=padding)\n",
    "original_weights = model_d201.features.conv0.weight.data.mean(dim=1, keepdim=True)\n",
    "conv1.weight.data = original_weights.repeat(1, num_channels, 1, 1)\n",
    "model_d201.features.conv0 = conv1\n",
    "\n",
    "# Freeze only the convolutional layers of the pre-trained model\n",
    "for param in model_d201.parameters():\n",
    "    if isinstance(param, nn.Conv2d):\n",
    "        param.requires_grad = False\n",
    "\n",
    "\n",
    "\n",
    "# Modify the model head for fine-tuning\n",
    "num_features = 2048\n",
    "\n",
    "# Additional linear layer and dropout layer\n",
    "model_d201.fc = nn.Sequential(\n",
    "    nn.Linear(num_features, 256),  # Additional linear layer with 256 output features\n",
    "    nn.ReLU(inplace=True),         # Activation function (you can choose other activation functions too)\n",
    "    nn.Dropout(0.5),               # Dropout layer with 50% probability\n",
    "    nn.Linear(256, 4)\n",
    ")\n",
    "\n",
    "#model_d201 = torch.nn.DataParallel(model_d201, device_ids = [0,1]).to(device)\n"
   ]
  },
  {
   "cell_type": "markdown",
   "id": "f8277a41",
   "metadata": {
    "papermill": {
     "duration": 0.007733,
     "end_time": "2024-01-28T23:27:56.435096",
     "exception": false,
     "start_time": "2024-01-28T23:27:56.427363",
     "status": "completed"
    },
    "tags": []
   },
   "source": [
    "# model InceptionV3"
   ]
  },
  {
   "cell_type": "code",
   "execution_count": 13,
   "id": "eaf529e1",
   "metadata": {
    "execution": {
     "iopub.execute_input": "2024-01-28T23:27:56.452178Z",
     "iopub.status.busy": "2024-01-28T23:27:56.451861Z",
     "iopub.status.idle": "2024-01-28T23:27:57.644769Z",
     "shell.execute_reply": "2024-01-28T23:27:57.643720Z"
    },
    "papermill": {
     "duration": 1.204305,
     "end_time": "2024-01-28T23:27:57.647312",
     "exception": false,
     "start_time": "2024-01-28T23:27:56.443007",
     "status": "completed"
    },
    "tags": []
   },
   "outputs": [
    {
     "data": {
      "application/vnd.jupyter.widget-view+json": {
       "model_id": "a3f25c04fb0c4314a80f7c3a6da73fdd",
       "version_major": 2,
       "version_minor": 0
      },
      "text/plain": [
       "model.safetensors:   0%|          | 0.00/95.5M [00:00<?, ?B/s]"
      ]
     },
     "metadata": {},
     "output_type": "display_data"
    }
   ],
   "source": [
    "\n",
    "\n",
    "# from timm\n",
    "pretrained_model_name = \"inception_v3\"\n",
    "model_inv3 = timm.create_model(pretrained_model_name, pretrained=True)\n",
    "#print(model)\n",
    "num_channels = 1  # for grayscale images, but it could be any number\n",
    "# Extract the first conv layer's parameters\n",
    "num_filters = model_inv3.Conv2d_1a_3x3.conv.out_channels\n",
    "kernel_size = model_inv3.Conv2d_1a_3x3.conv.kernel_size\n",
    "stride = model_inv3.Conv2d_1a_3x3.conv.stride\n",
    "padding = model_inv3.Conv2d_1a_3x3.conv.padding\n",
    "conv1 = torch.nn.Conv2d(num_channels, num_filters, kernel_size=kernel_size, stride=stride, padding=padding)\n",
    "original_weights = model_inv3.Conv2d_1a_3x3.conv.weight.data.mean(dim=1, keepdim=True)\n",
    "conv1.weight.data = original_weights.repeat(1, num_channels, 1, 1)\n",
    "model_inv3.Conv2d_1a_3x3.conv = conv1\n",
    "\n",
    "# Freeze only the convolutional layers of the pre-trained model\n",
    "for param in model_inv3.parameters():\n",
    "    if isinstance(param, nn.Conv2d):\n",
    "        param.requires_grad = False\n",
    "\n",
    "\n",
    "\n",
    "# Modify the model head for fine-tuning\n",
    "num_features = 2048\n",
    "\n",
    "# Additional linear layer and dropout layer\n",
    "model_inv3.fc = nn.Sequential(\n",
    "    nn.Linear(num_features, 256),  # Additional linear layer with 256 output features\n",
    "    nn.ReLU(inplace=True),         # Activation function (you can choose other activation functions too)\n",
    "    nn.Dropout(0.5),               # Dropout layer with 50% probability\n",
    "    nn.Linear(256, 4)\n",
    ")\n",
    "\n",
    "#model_inv3 = torch.nn.DataParallel(model_inv3, device_ids = [0,1]).to(device)\n",
    "\n"
   ]
  },
  {
   "cell_type": "code",
   "execution_count": 14,
   "id": "7ba1ea7e",
   "metadata": {
    "execution": {
     "iopub.execute_input": "2024-01-28T23:27:57.667764Z",
     "iopub.status.busy": "2024-01-28T23:27:57.667460Z",
     "iopub.status.idle": "2024-01-28T23:27:57.985366Z",
     "shell.execute_reply": "2024-01-28T23:27:57.984512Z"
    },
    "papermill": {
     "duration": 0.33069,
     "end_time": "2024-01-28T23:27:57.987679",
     "exception": false,
     "start_time": "2024-01-28T23:27:57.656989",
     "status": "completed"
    },
    "tags": []
   },
   "outputs": [],
   "source": [
    "class EnsembleModel(nn.Module):   \n",
    "    def __init__(self, modelA, modelB):\n",
    "        super().__init__()\n",
    "        self.modelA = modelA\n",
    "        self.modelB = modelB\n",
    "        \n",
    "        self.classifier = nn.Linear(1004, 4)\n",
    "        \n",
    "    def forward(self, x):\n",
    "        x1 = self.modelA(x)\n",
    "        x2 = self.modelB(x)\n",
    "        x = torch.cat((x1, x2), dim=1)\n",
    "        x.size()\n",
    "        out = self.classifier(x)\n",
    "        return out\n",
    "    \n",
    "ensemble_model = EnsembleModel(model_inv3, model_d201)\n",
    "\n",
    "for param in ensemble_model.parameters():\n",
    "    param.requires_grad = False\n",
    "\n",
    "for param in ensemble_model.classifier.parameters():\n",
    "    param.requires_grad = True    \n",
    "\n",
    "ensemble_model = torch.nn.DataParallel(ensemble_model, device_ids = [0,1]).to(device)"
   ]
  },
  {
   "cell_type": "code",
   "execution_count": 15,
   "id": "eff827ea",
   "metadata": {
    "execution": {
     "iopub.execute_input": "2024-01-28T23:27:58.005515Z",
     "iopub.status.busy": "2024-01-28T23:27:58.005021Z",
     "iopub.status.idle": "2024-01-28T23:27:58.016168Z",
     "shell.execute_reply": "2024-01-28T23:27:58.015342Z"
    },
    "papermill": {
     "duration": 0.022048,
     "end_time": "2024-01-28T23:27:58.018118",
     "exception": false,
     "start_time": "2024-01-28T23:27:57.996070",
     "status": "completed"
    },
    "tags": []
   },
   "outputs": [],
   "source": [
    "criterion = nn.CrossEntropyLoss()\n",
    "optimizer_ft = optim.SGD(ensemble_model.parameters(), lr=0.001, momentum=0.9)\n",
    "exp_lr_scheduler = lr_scheduler.StepLR(optimizer_ft, step_size=7, gamma=0.1)"
   ]
  },
  {
   "cell_type": "markdown",
   "id": "67f92921",
   "metadata": {
    "papermill": {
     "duration": 0.007724,
     "end_time": "2024-01-28T23:27:58.034963",
     "exception": false,
     "start_time": "2024-01-28T23:27:58.027239",
     "status": "completed"
    },
    "tags": []
   },
   "source": [
    "# Training"
   ]
  },
  {
   "cell_type": "code",
   "execution_count": 16,
   "id": "10bfcdb0",
   "metadata": {
    "execution": {
     "iopub.execute_input": "2024-01-28T23:27:58.052291Z",
     "iopub.status.busy": "2024-01-28T23:27:58.051541Z",
     "iopub.status.idle": "2024-01-28T23:27:58.055314Z",
     "shell.execute_reply": "2024-01-28T23:27:58.054597Z"
    },
    "papermill": {
     "duration": 0.014333,
     "end_time": "2024-01-28T23:27:58.057193",
     "exception": false,
     "start_time": "2024-01-28T23:27:58.042860",
     "status": "completed"
    },
    "tags": []
   },
   "outputs": [],
   "source": [
    "rep = []"
   ]
  },
  {
   "cell_type": "code",
   "execution_count": null,
   "id": "552b4499",
   "metadata": {
    "papermill": {
     "duration": 0.00776,
     "end_time": "2024-01-28T23:27:58.073275",
     "exception": false,
     "start_time": "2024-01-28T23:27:58.065515",
     "status": "completed"
    },
    "tags": []
   },
   "outputs": [],
   "source": []
  },
  {
   "cell_type": "code",
   "execution_count": 17,
   "id": "5328cec0",
   "metadata": {
    "execution": {
     "iopub.execute_input": "2024-01-28T23:27:58.090363Z",
     "iopub.status.busy": "2024-01-28T23:27:58.090104Z",
     "iopub.status.idle": "2024-01-29T02:04:30.893435Z",
     "shell.execute_reply": "2024-01-29T02:04:30.892242Z"
    },
    "papermill": {
     "duration": 9392.814414,
     "end_time": "2024-01-29T02:04:30.895639",
     "exception": false,
     "start_time": "2024-01-28T23:27:58.081225",
     "status": "completed"
    },
    "tags": []
   },
   "outputs": [
    {
     "name": "stdout",
     "output_type": "stream",
     "text": [
      "Epoch [31.0/30],Loss:0.9991,Accuracy:0.46\n"
     ]
    }
   ],
   "source": [
    "\n",
    "batch_size=32\n",
    "num_epochs=30\n",
    "val_size = len(my_tdataloader)\n",
    "train_size = len(my_dataloader) \n",
    "\n",
    "losses = [] \n",
    "accuracies = [] \n",
    "val_losses = [] \n",
    "val_accuracies = [] \n",
    "# Train the model \n",
    "cnt = 0\n",
    "x = range(0,num_epochs)\n",
    "for epoch in x: \n",
    "    cnt = 0\n",
    "    for i, (images, labels) in enumerate(my_dataloader): \n",
    "        # Forward pass \n",
    "        images=images.to(device) \n",
    "        labels=labels.type(torch.LongTensor).to(device) \n",
    "        outputs = ensemble_model(images) \n",
    "        loss = criterion(outputs, labels) \n",
    "        \n",
    "        # Backward pass and optimization \n",
    "        optimizer_ft.zero_grad() \n",
    "        loss.backward() \n",
    "        optimizer_ft.step() \n",
    "        cnt = cnt+1\n",
    "        print(cnt,end=' ')\n",
    "        if cnt == 1010 :\n",
    "            clear_output()\n",
    "            cnt = 0\n",
    "        _, predicted = torch.max(outputs.data, 1)\n",
    "        \n",
    "    acc = (predicted == labels).sum().item() / labels.size(0) \n",
    "    accuracies.append(acc) \n",
    "    losses.append(loss.item()) \n",
    "\n",
    "    # Evaluate the model on the validation set\t\n",
    "    rep.append('Epoch [{}/{}],Loss:{:.4f},Accuracy:{:.2f}'.format( \n",
    "        epoch+1, num_epochs, loss.item(),acc))\n",
    "    print('Epoch [{}/{}],Loss:{:.4f},Accuracy:{:.2f}'.format( \n",
    "        epoch+1, num_epochs, loss.item(),acc))"
   ]
  },
  {
   "cell_type": "code",
   "execution_count": 18,
   "id": "38882be1",
   "metadata": {
    "execution": {
     "iopub.execute_input": "2024-01-29T02:04:30.914039Z",
     "iopub.status.busy": "2024-01-29T02:04:30.913738Z",
     "iopub.status.idle": "2024-01-29T02:04:30.951632Z",
     "shell.execute_reply": "2024-01-29T02:04:30.950823Z"
    },
    "papermill": {
     "duration": 0.049145,
     "end_time": "2024-01-29T02:04:30.953506",
     "exception": false,
     "start_time": "2024-01-29T02:04:30.904361",
     "status": "completed"
    },
    "tags": []
   },
   "outputs": [],
   "source": [
    "import torch\n",
    "torch.cuda.empty_cache()"
   ]
  },
  {
   "cell_type": "markdown",
   "id": "2628cdbc",
   "metadata": {
    "papermill": {
     "duration": 0.007932,
     "end_time": "2024-01-29T02:04:30.969764",
     "exception": false,
     "start_time": "2024-01-29T02:04:30.961832",
     "status": "completed"
    },
    "tags": []
   },
   "source": [
    "# Evaluation"
   ]
  },
  {
   "cell_type": "code",
   "execution_count": 19,
   "id": "47283168",
   "metadata": {
    "execution": {
     "iopub.execute_input": "2024-01-29T02:04:30.987191Z",
     "iopub.status.busy": "2024-01-29T02:04:30.986896Z",
     "iopub.status.idle": "2024-01-29T02:05:42.039980Z",
     "shell.execute_reply": "2024-01-29T02:05:42.039071Z"
    },
    "papermill": {
     "duration": 71.072565,
     "end_time": "2024-01-29T02:05:42.050413",
     "exception": false,
     "start_time": "2024-01-29T02:04:30.977848",
     "status": "completed"
    },
    "tags": []
   },
   "outputs": [
    {
     "data": {
      "image/png": "[encoded data removed]",
      "text/plain": [
       "<Figure size 1200x700 with 2 Axes>"
      ]
     },
     "metadata": {},
     "output_type": "display_data"
    }
   ],
   "source": [
    "from sklearn.metrics import confusion_matrix\n",
    "import seaborn as sn\n",
    "import pandas as pd\n",
    "\n",
    "y_pred = []\n",
    "y_true = []  \n",
    "\n",
    "# iterate over test data\n",
    "for inputs, labels in my_tdataloader:\n",
    "        output = ensemble_model(inputs) # Feed Network\n",
    "\n",
    "        output = (torch.max(torch.exp(output), 1)[1]).data.cpu().numpy()\n",
    "        y_pred.extend(output) # Save Prediction\n",
    "        \n",
    "        labels = labels.data.cpu().numpy()\n",
    "        y_true.extend(labels) # Save Truth\n",
    "\n",
    "# constant for classes\n",
    "classes = ('COVID','Normal','Pneumonia','Bacterial infection')\n",
    "\n",
    "# Build confusion matrix\n",
    "cf_matrix = confusion_matrix(y_true, y_pred)\n",
    "df_cm = pd.DataFrame(cf_matrix / np.sum(cf_matrix, axis=1)[:, None], index = [i for i in classes],\n",
    "                     columns = [i for i in classes])\n",
    "plt.figure(figsize = (12,7))\n",
    "sn.heatmap(df_cm, annot=True)\n",
    "plt.savefig('output.png')\n"
   ]
  },
  {
   "cell_type": "code",
   "execution_count": 20,
   "id": "409e52aa",
   "metadata": {
    "execution": {
     "iopub.execute_input": "2024-01-29T02:05:42.069296Z",
     "iopub.status.busy": "2024-01-29T02:05:42.068979Z",
     "iopub.status.idle": "2024-01-29T02:05:42.118484Z",
     "shell.execute_reply": "2024-01-29T02:05:42.117516Z"
    },
    "papermill": {
     "duration": 0.061235,
     "end_time": "2024-01-29T02:05:42.120490",
     "exception": false,
     "start_time": "2024-01-29T02:05:42.059255",
     "status": "completed"
    },
    "tags": []
   },
   "outputs": [
    {
     "name": "stdout",
     "output_type": "stream",
     "text": [
      "              precision    recall  f1-score   support\n",
      "\n",
      "           0       0.64      0.60      0.62      1890\n",
      "           1       0.79      0.88      0.83      2039\n",
      "           2       0.76      0.80      0.78      2055\n",
      "           3       0.83      0.75      0.79      2092\n",
      "\n",
      "    accuracy                           0.76      8076\n",
      "   macro avg       0.76      0.76      0.76      8076\n",
      "weighted avg       0.76      0.76      0.76      8076\n",
      "\n"
     ]
    },
    {
     "data": {
      "text/plain": [
       "'              precision    recall  f1-score   support\\n\\n           0       0.64      0.60      0.62      1890\\n           1       0.79      0.88      0.83      2039\\n           2       0.76      0.80      0.78      2055\\n           3       0.83      0.75      0.79      2092\\n\\n    accuracy                           0.76      8076\\n   macro avg       0.76      0.76      0.76      8076\\nweighted avg       0.76      0.76      0.76      8076\\n'"
      ]
     },
     "execution_count": 20,
     "metadata": {},
     "output_type": "execute_result"
    }
   ],
   "source": [
    "from sklearn.metrics import classification_report\n",
    "print(classification_report(y_true, y_pred))\n",
    "classification_report(y_true, y_pred)"
   ]
  },
  {
   "cell_type": "code",
   "execution_count": null,
   "id": "7ccc1ac5",
   "metadata": {
    "papermill": {
     "duration": 0.009052,
     "end_time": "2024-01-29T02:05:42.138588",
     "exception": false,
     "start_time": "2024-01-29T02:05:42.129536",
     "status": "completed"
    },
    "tags": []
   },
   "outputs": [],
   "source": []
  }
 ],
 "metadata": {
  "kaggle": {
   "accelerator": "nvidiaTeslaT4",
   "dataSources": [
    {
     "datasetId": 1074124,
     "sourceId": 1808010,
     "sourceType": "datasetVersion"
    },
    {
     "datasetId": 1796217,
     "sourceId": 3167972,
     "sourceType": "datasetVersion"
    },
    {
     "datasetId": 2024507,
     "sourceId": 3355768,
     "sourceType": "datasetVersion"
    },
    {
     "datasetId": 3057430,
     "sourceId": 6370358,
     "sourceType": "datasetVersion"
    },
    {
     "datasetId": 4300143,
     "sourceId": 7456318,
     "sourceType": "datasetVersion"
    },
    {
     "datasetId": 4340387,
     "sourceId": 7483333,
     "sourceType": "datasetVersion"
    }
   ],
   "isGpuEnabled": true,
   "isInternetEnabled": true,
   "language": "python",
   "sourceType": "notebook"
  },
  "kernelspec": {
   "display_name": "Python 3",
   "language": "python",
   "name": "python3"
  },
  "language_info": {
   "codemirror_mode": {
    "name": "ipython",
    "version": 3
   },
   "file_extension": ".py",
   "mimetype": "text/x-python",
   "name": "python",
   "nbconvert_exporter": "python",
   "pygments_lexer": "ipython3",
   "version": "3.10.12"
  },
  "papermill": {
   "default_parameters": {},
   "duration": 9566.990579,
   "end_time": "2024-01-29T02:05:45.644153",
   "environment_variables": {},
   "exception": null,
   "input_path": "__notebook__.ipynb",
   "output_path": "__notebook__.ipynb",
   "parameters": {},
   "start_time": "2024-01-28T23:26:18.653574",
   "version": "2.4.0"
  },
  "widgets": {
   "application/vnd.jupyter.widget-state+json": {
    "state": {
     "00767113c82e4fb4bcef9bb9678ef5ec": {
      "model_module": "@jupyter-widgets/controls",
      "model_module_version": "1.5.0",
      "model_name": "ProgressStyleModel",
      "state": {
       "_model_module": "@jupyter-widgets/controls",
       "_model_module_version": "1.5.0",
       "_model_name": "ProgressStyleModel",
       "_view_count": null,
       "_view_module": "@jupyter-widgets/base",
       "_view_module_version": "1.2.0",
       "_view_name": "StyleView",
       "bar_color": null,
       "description_width": ""
      }
     },
     "0eef9888bc1f4938afd6ad435f1e1a4e": {
      "model_module": "@jupyter-widgets/controls",
      "model_module_version": "1.5.0",
      "model_name": "HTMLModel",
      "state": {
       "_dom_classes": [],
       "_model_module": "@jupyter-widgets/controls",
       "_model_module_version": "1.5.0",
       "_model_name": "HTMLModel",
       "_view_count": null,
       "_view_module": "@jupyter-widgets/controls",
       "_view_module_version": "1.5.0",
       "_view_name": "HTMLView",
       "description": "",
       "description_tooltip": null,
       "layout": "IPY_MODEL_812d620f6c0b47e392bc8cbccb88559a",
       "placeholder": "​",
       "style": "IPY_MODEL_4a23712746e44b5d86552712919639b2",
       "value": " 81.1M/81.1M [00:00&lt;00:00, 136MB/s]"
      }
     },
     "3189a387f3f140e0ab4ce22b2103e562": {
      "model_module": "@jupyter-widgets/base",
      "model_module_version": "1.2.0",
      "model_name": "LayoutModel",
      "state": {
       "_model_module": "@jupyter-widgets/base",
       "_model_module_version": "1.2.0",
       "_model_name": "LayoutModel",
       "_view_count": null,
       "_view_module": "@jupyter-widgets/base",
       "_view_module_version": "1.2.0",
       "_view_name": "LayoutView",
       "align_content": null,
       "align_items": null,
       "align_self": null,
       "border": null,
       "bottom": null,
       "display": null,
       "flex": null,
       "flex_flow": null,
       "grid_area": null,
       "grid_auto_columns": null,
       "grid_auto_flow": null,
       "grid_auto_rows": null,
       "grid_column": null,
       "grid_gap": null,
       "grid_row": null,
       "grid_template_areas": null,
       "grid_template_columns": null,
       "grid_template_rows": null,
       "height": null,
       "justify_content": null,
       "justify_items": null,
       "left": null,
       "margin": null,
       "max_height": null,
       "max_width": null,
       "min_height": null,
       "min_width": null,
       "object_fit": null,
       "object_position": null,
       "order": null,
       "overflow": null,
       "overflow_x": null,
       "overflow_y": null,
       "padding": null,
       "right": null,
       "top": null,
       "visibility": null,
       "width": null
      }
     },
     "34bd28510c3743c7b80310bc4ef0bb66": {
      "model_module": "@jupyter-widgets/controls",
      "model_module_version": "1.5.0",
      "model_name": "ProgressStyleModel",
      "state": {
       "_model_module": "@jupyter-widgets/controls",
       "_model_module_version": "1.5.0",
       "_model_name": "ProgressStyleModel",
       "_view_count": null,
       "_view_module": "@jupyter-widgets/base",
       "_view_module_version": "1.2.0",
       "_view_name": "StyleView",
       "bar_color": null,
       "description_width": ""
      }
     },
     "3c4f52f3a6ac41ed912e67cbd841dd2e": {
      "model_module": "@jupyter-widgets/controls",
      "model_module_version": "1.5.0",
      "model_name": "DescriptionStyleModel",
      "state": {
       "_model_module": "@jupyter-widgets/controls",
       "_model_module_version": "1.5.0",
       "_model_name": "DescriptionStyleModel",
       "_view_count": null,
       "_view_module": "@jupyter-widgets/base",
       "_view_module_version": "1.2.0",
       "_view_name": "StyleView",
       "description_width": ""
      }
     },
     "4a23712746e44b5d86552712919639b2": {
      "model_module": "@jupyter-widgets/controls",
      "model_module_version": "1.5.0",
      "model_name": "DescriptionStyleModel",
      "state": {
       "_model_module": "@jupyter-widgets/controls",
       "_model_module_version": "1.5.0",
       "_model_name": "DescriptionStyleModel",
       "_view_count": null,
       "_view_module": "@jupyter-widgets/base",
       "_view_module_version": "1.2.0",
       "_view_name": "StyleView",
       "description_width": ""
      }
     },
     "4bb2a841449a484399f339bf5ec584de": {
      "model_module": "@jupyter-widgets/base",
      "model_module_version": "1.2.0",
      "model_name": "LayoutModel",
      "state": {
       "_model_module": "@jupyter-widgets/base",
       "_model_module_version": "1.2.0",
       "_model_name": "LayoutModel",
       "_view_count": null,
       "_view_module": "@jupyter-widgets/base",
       "_view_module_version": "1.2.0",
       "_view_name": "LayoutView",
       "align_content": null,
       "align_items": null,
       "align_self": null,
       "border": null,
       "bottom": null,
       "display": null,
       "flex": null,
       "flex_flow": null,
       "grid_area": null,
       "grid_auto_columns": null,
       "grid_auto_flow": null,
       "grid_auto_rows": null,
       "grid_column": null,
       "grid_gap": null,
       "grid_row": null,
       "grid_template_areas": null,
       "grid_template_columns": null,
       "grid_template_rows": null,
       "height": null,
       "justify_content": null,
       "justify_items": null,
       "left": null,
       "margin": null,
       "max_height": null,
       "max_width": null,
       "min_height": null,
       "min_width": null,
       "object_fit": null,
       "object_position": null,
       "order": null,
       "overflow": null,
       "overflow_x": null,
       "overflow_y": null,
       "padding": null,
       "right": null,
       "top": null,
       "visibility": null,
       "width": null
      }
     },
     "4d2cce7be5994c2a83b7882de5d92d97": {
      "model_module": "@jupyter-widgets/controls",
      "model_module_version": "1.5.0",
      "model_name": "DescriptionStyleModel",
      "state": {
       "_model_module": "@jupyter-widgets/controls",
       "_model_module_version": "1.5.0",
       "_model_name": "DescriptionStyleModel",
       "_view_count": null,
       "_view_module": "@jupyter-widgets/base",
       "_view_module_version": "1.2.0",
       "_view_name": "StyleView",
       "description_width": ""
      }
     },
     "4dbc3ff79d58443f93e95b2fbd91c1a8": {
      "model_module": "@jupyter-widgets/controls",
      "model_module_version": "1.5.0",
      "model_name": "FloatProgressModel",
      "state": {
       "_dom_classes": [],
       "_model_module": "@jupyter-widgets/controls",
       "_model_module_version": "1.5.0",
       "_model_name": "FloatProgressModel",
       "_view_count": null,
       "_view_module": "@jupyter-widgets/controls",
       "_view_module_version": "1.5.0",
       "_view_name": "ProgressView",
       "bar_style": "success",
       "description": "",
       "description_tooltip": null,
       "layout": "IPY_MODEL_859afbe7c9d747f0b5af46a6e287aa86",
       "max": 81113690.0,
       "min": 0.0,
       "orientation": "horizontal",
       "style": "IPY_MODEL_34bd28510c3743c7b80310bc4ef0bb66",
       "value": 81113690.0
      }
     },
     "63bf58311bd74472bfa4c78336037880": {
      "model_module": "@jupyter-widgets/controls",
      "model_module_version": "1.5.0",
      "model_name": "HTMLModel",
      "state": {
       "_dom_classes": [],
       "_model_module": "@jupyter-widgets/controls",
       "_model_module_version": "1.5.0",
       "_model_name": "HTMLModel",
       "_view_count": null,
       "_view_module": "@jupyter-widgets/controls",
       "_view_module_version": "1.5.0",
       "_view_name": "HTMLView",
       "description": "",
       "description_tooltip": null,
       "layout": "IPY_MODEL_4bb2a841449a484399f339bf5ec584de",
       "placeholder": "​",
       "style": "IPY_MODEL_3c4f52f3a6ac41ed912e67cbd841dd2e",
       "value": "model.safetensors: 100%"
      }
     },
     "812d620f6c0b47e392bc8cbccb88559a": {
      "model_module": "@jupyter-widgets/base",
      "model_module_version": "1.2.0",
      "model_name": "LayoutModel",
      "state": {
       "_model_module": "@jupyter-widgets/base",
       "_model_module_version": "1.2.0",
       "_model_name": "LayoutModel",
       "_view_count": null,
       "_view_module": "@jupyter-widgets/base",
       "_view_module_version": "1.2.0",
       "_view_name": "LayoutView",
       "align_content": null,
       "align_items": null,
       "align_self": null,
       "border": null,
       "bottom": null,
       "display": null,
       "flex": null,
       "flex_flow": null,
       "grid_area": null,
       "grid_auto_columns": null,
       "grid_auto_flow": null,
       "grid_auto_rows": null,
       "grid_column": null,
       "grid_gap": null,
       "grid_row": null,
       "grid_template_areas": null,
       "grid_template_columns": null,
       "grid_template_rows": null,
       "height": null,
       "justify_content": null,
       "justify_items": null,
       "left": null,
       "margin": null,
       "max_height": null,
       "max_width": null,
       "min_height": null,
       "min_width": null,
       "object_fit": null,
       "object_position": null,
       "order": null,
       "overflow": null,
       "overflow_x": null,
       "overflow_y": null,
       "padding": null,
       "right": null,
       "top": null,
       "visibility": null,
       "width": null
      }
     },
     "859afbe7c9d747f0b5af46a6e287aa86": {
      "model_module": "@jupyter-widgets/base",
      "model_module_version": "1.2.0",
      "model_name": "LayoutModel",
      "state": {
       "_model_module": "@jupyter-widgets/base",
       "_model_module_version": "1.2.0",
       "_model_name": "LayoutModel",
       "_view_count": null,
       "_view_module": "@jupyter-widgets/base",
       "_view_module_version": "1.2.0",
       "_view_name": "LayoutView",
       "align_content": null,
       "align_items": null,
       "align_self": null,
       "border": null,
       "bottom": null,
       "display": null,
       "flex": null,
       "flex_flow": null,
       "grid_area": null,
       "grid_auto_columns": null,
       "grid_auto_flow": null,
       "grid_auto_rows": null,
       "grid_column": null,
       "grid_gap": null,
       "grid_row": null,
       "grid_template_areas": null,
       "grid_template_columns": null,
       "grid_template_rows": null,
       "height": null,
       "justify_content": null,
       "justify_items": null,
       "left": null,
       "margin": null,
       "max_height": null,
       "max_width": null,
       "min_height": null,
       "min_width": null,
       "object_fit": null,
       "object_position": null,
       "order": null,
       "overflow": null,
       "overflow_x": null,
       "overflow_y": null,
       "padding": null,
       "right": null,
       "top": null,
       "visibility": null,
       "width": null
      }
     },
     "921c7ec91f0d47cc8a75841bec84e499": {
      "model_module": "@jupyter-widgets/controls",
      "model_module_version": "1.5.0",
      "model_name": "HTMLModel",
      "state": {
       "_dom_classes": [],
       "_model_module": "@jupyter-widgets/controls",
       "_model_module_version": "1.5.0",
       "_model_name": "HTMLModel",
       "_view_count": null,
       "_view_module": "@jupyter-widgets/controls",
       "_view_module_version": "1.5.0",
       "_view_name": "HTMLView",
       "description": "",
       "description_tooltip": null,
       "layout": "IPY_MODEL_3189a387f3f140e0ab4ce22b2103e562",
       "placeholder": "​",
       "style": "IPY_MODEL_99ad79b1f4394208991d8567de298a2f",
       "value": " 95.5M/95.5M [00:00&lt;00:00, 208MB/s]"
      }
     },
     "927dde90282143abbf0e80f7414ceb52": {
      "model_module": "@jupyter-widgets/controls",
      "model_module_version": "1.5.0",
      "model_name": "HTMLModel",
      "state": {
       "_dom_classes": [],
       "_model_module": "@jupyter-widgets/controls",
       "_model_module_version": "1.5.0",
       "_model_name": "HTMLModel",
       "_view_count": null,
       "_view_module": "@jupyter-widgets/controls",
       "_view_module_version": "1.5.0",
       "_view_name": "HTMLView",
       "description": "",
       "description_tooltip": null,
       "layout": "IPY_MODEL_bd6063c35b764acda39e28962e58a616",
       "placeholder": "​",
       "style": "IPY_MODEL_4d2cce7be5994c2a83b7882de5d92d97",
       "value": "model.safetensors: 100%"
      }
     },
     "95b14628451b4731931738c9c32e3e24": {
      "model_module": "@jupyter-widgets/controls",
      "model_module_version": "1.5.0",
      "model_name": "HBoxModel",
      "state": {
       "_dom_classes": [],
       "_model_module": "@jupyter-widgets/controls",
       "_model_module_version": "1.5.0",
       "_model_name": "HBoxModel",
       "_view_count": null,
       "_view_module": "@jupyter-widgets/controls",
       "_view_module_version": "1.5.0",
       "_view_name": "HBoxView",
       "box_style": "",
       "children": [
        "IPY_MODEL_927dde90282143abbf0e80f7414ceb52",
        "IPY_MODEL_4dbc3ff79d58443f93e95b2fbd91c1a8",
        "IPY_MODEL_0eef9888bc1f4938afd6ad435f1e1a4e"
       ],
       "layout": "IPY_MODEL_f386bcf0e9db405ab185fedc7c36e3c6"
      }
     },
     "99ad79b1f4394208991d8567de298a2f": {
      "model_module": "@jupyter-widgets/controls",
      "model_module_version": "1.5.0",
      "model_name": "DescriptionStyleModel",
      "state": {
       "_model_module": "@jupyter-widgets/controls",
       "_model_module_version": "1.5.0",
       "_model_name": "DescriptionStyleModel",
       "_view_count": null,
       "_view_module": "@jupyter-widgets/base",
       "_view_module_version": "1.2.0",
       "_view_name": "StyleView",
       "description_width": ""
      }
     },
     "a3f25c04fb0c4314a80f7c3a6da73fdd": {
      "model_module": "@jupyter-widgets/controls",
      "model_module_version": "1.5.0",
      "model_name": "HBoxModel",
      "state": {
       "_dom_classes": [],
       "_model_module": "@jupyter-widgets/controls",
       "_model_module_version": "1.5.0",
       "_model_name": "HBoxModel",
       "_view_count": null,
       "_view_module": "@jupyter-widgets/controls",
       "_view_module_version": "1.5.0",
       "_view_name": "HBoxView",
       "box_style": "",
       "children": [
        "IPY_MODEL_63bf58311bd74472bfa4c78336037880",
        "IPY_MODEL_b67994cda8984ad588b761e8d063deb7",
        "IPY_MODEL_921c7ec91f0d47cc8a75841bec84e499"
       ],
       "layout": "IPY_MODEL_bdcbfbafe44747598352d38cdb5bee13"
      }
     },
     "b67994cda8984ad588b761e8d063deb7": {
      "model_module": "@jupyter-widgets/controls",
      "model_module_version": "1.5.0",
      "model_name": "FloatProgressModel",
      "state": {
       "_dom_classes": [],
       "_model_module": "@jupyter-widgets/controls",
       "_model_module_version": "1.5.0",
       "_model_name": "FloatProgressModel",
       "_view_count": null,
       "_view_module": "@jupyter-widgets/controls",
       "_view_module_version": "1.5.0",
       "_view_name": "ProgressView",
       "bar_style": "success",
       "description": "",
       "description_tooltip": null,
       "layout": "IPY_MODEL_bb776596416748fb86bfad26b833cc74",
       "max": 95533832.0,
       "min": 0.0,
       "orientation": "horizontal",
       "style": "IPY_MODEL_00767113c82e4fb4bcef9bb9678ef5ec",
       "value": 95533832.0
      }
     },
     "bb776596416748fb86bfad26b833cc74": {
      "model_module": "@jupyter-widgets/base",
      "model_module_version": "1.2.0",
      "model_name": "LayoutModel",
      "state": {
       "_model_module": "@jupyter-widgets/base",
       "_model_module_version": "1.2.0",
       "_model_name": "LayoutModel",
       "_view_count": null,
       "_view_module": "@jupyter-widgets/base",
       "_view_module_version": "1.2.0",
       "_view_name": "LayoutView",
       "align_content": null,
       "align_items": null,
       "align_self": null,
       "border": null,
       "bottom": null,
       "display": null,
       "flex": null,
       "flex_flow": null,
       "grid_area": null,
       "grid_auto_columns": null,
       "grid_auto_flow": null,
       "grid_auto_rows": null,
       "grid_column": null,
       "grid_gap": null,
       "grid_row": null,
       "grid_template_areas": null,
       "grid_template_columns": null,
       "grid_template_rows": null,
       "height": null,
       "justify_content": null,
       "justify_items": null,
       "left": null,
       "margin": null,
       "max_height": null,
       "max_width": null,
       "min_height": null,
       "min_width": null,
       "object_fit": null,
       "object_position": null,
       "order": null,
       "overflow": null,
       "overflow_x": null,
       "overflow_y": null,
       "padding": null,
       "right": null,
       "top": null,
       "visibility": null,
       "width": null
      }
     },
     "bd6063c35b764acda39e28962e58a616": {
      "model_module": "@jupyter-widgets/base",
      "model_module_version": "1.2.0",
      "model_name": "LayoutModel",
      "state": {
       "_model_module": "@jupyter-widgets/base",
       "_model_module_version": "1.2.0",
       "_model_name": "LayoutModel",
       "_view_count": null,
       "_view_module": "@jupyter-widgets/base",
       "_view_module_version": "1.2.0",
       "_view_name": "LayoutView",
       "align_content": null,
       "align_items": null,
       "align_self": null,
       "border": null,
       "bottom": null,
       "display": null,
       "flex": null,
       "flex_flow": null,
       "grid_area": null,
       "grid_auto_columns": null,
       "grid_auto_flow": null,
       "grid_auto_rows": null,
       "grid_column": null,
       "grid_gap": null,
       "grid_row": null,
       "grid_template_areas": null,
       "grid_template_columns": null,
       "grid_template_rows": null,
       "height": null,
       "justify_content": null,
       "justify_items": null,
       "left": null,
       "margin": null,
       "max_height": null,
       "max_width": null,
       "min_height": null,
       "min_width": null,
       "object_fit": null,
       "object_position": null,
       "order": null,
       "overflow": null,
       "overflow_x": null,
       "overflow_y": null,
       "padding": null,
       "right": null,
       "top": null,
       "visibility": null,
       "width": null
      }
     },
     "bdcbfbafe44747598352d38cdb5bee13": {
      "model_module": "@jupyter-widgets/base",
      "model_module_version": "1.2.0",
      "model_name": "LayoutModel",
      "state": {
       "_model_module": "@jupyter-widgets/base",
       "_model_module_version": "1.2.0",
       "_model_name": "LayoutModel",
       "_view_count": null,
       "_view_module": "@jupyter-widgets/base",
       "_view_module_version": "1.2.0",
       "_view_name": "LayoutView",
       "align_content": null,
       "align_items": null,
       "align_self": null,
       "border": null,
       "bottom": null,
       "display": null,
       "flex": null,
       "flex_flow": null,
       "grid_area": null,
       "grid_auto_columns": null,
       "grid_auto_flow": null,
       "grid_auto_rows": null,
       "grid_column": null,
       "grid_gap": null,
       "grid_row": null,
       "grid_template_areas": null,
       "grid_template_columns": null,
       "grid_template_rows": null,
       "height": null,
       "justify_content": null,
       "justify_items": null,
       "left": null,
       "margin": null,
       "max_height": null,
       "max_width": null,
       "min_height": null,
       "min_width": null,
       "object_fit": null,
       "object_position": null,
       "order": null,
       "overflow": null,
       "overflow_x": null,
       "overflow_y": null,
       "padding": null,
       "right": null,
       "top": null,
       "visibility": null,
       "width": null
      }
     },
     "f386bcf0e9db405ab185fedc7c36e3c6": {
      "model_module": "@jupyter-widgets/base",
      "model_module_version": "1.2.0",
      "model_name": "LayoutModel",
      "state": {
       "_model_module": "@jupyter-widgets/base",
       "_model_module_version": "1.2.0",
       "_model_name": "LayoutModel",
       "_view_count": null,
       "_view_module": "@jupyter-widgets/base",
       "_view_module_version": "1.2.0",
       "_view_name": "LayoutView",
       "align_content": null,
       "align_items": null,
       "align_self": null,
       "border": null,
       "bottom": null,
       "display": null,
       "flex": null,
       "flex_flow": null,
       "grid_area": null,
       "grid_auto_columns": null,
       "grid_auto_flow": null,
       "grid_auto_rows": null,
       "grid_column": null,
       "grid_gap": null,
       "grid_row": null,
       "grid_template_areas": null,
       "grid_template_columns": null,
       "grid_template_rows": null,
       "height": null,
       "justify_content": null,
       "justify_items": null,
       "left": null,
       "margin": null,
       "max_height": null,
       "max_width": null,
       "min_height": null,
       "min_width": null,
       "object_fit": null,
       "object_position": null,
       "order": null,
       "overflow": null,
       "overflow_x": null,
       "overflow_y": null,
       "padding": null,
       "right": null,
       "top": null,
       "visibility": null,
       "width": null
      }
     }
    },
    "version_major": 2,
    "version_minor": 0
   }
  }
 },
 "nbformat": 4,
 "nbformat_minor": 5
}
